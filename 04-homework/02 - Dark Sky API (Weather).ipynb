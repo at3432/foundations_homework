{
 "cells": [
  {
   "cell_type": "markdown",
   "metadata": {},
   "source": [
    "# Dark Sky API (Weather)\n",
    "\n",
    "Answer the following questions using the [Dark Sky API](https://darksky.net/dev/). I've added three cells for each question but you're free to use more or less! Hold `Shift` and hit `Enter` to run a cell, and use the `+` on the top left to add a new cell to a notebook.\n",
    "\n",
    "If you spend some time reading the documentation your life will probably be a little bit easier!\n",
    "\n",
    "## 0) Import any libraries you might need\n",
    "\n",
    "- *Tip: We're going to be downloading things from the internet, so we probably need `requests`.*"
   ]
  },
  {
   "cell_type": "code",
   "execution_count": 131,
   "metadata": {},
   "outputs": [],
   "source": [
    "import requests"
   ]
  },
  {
   "cell_type": "code",
   "execution_count": 2,
   "metadata": {},
   "outputs": [],
   "source": []
  },
  {
   "cell_type": "markdown",
   "metadata": {
    "collapsed": true
   },
   "source": [
    "## 1) Make a request from the Dark Sky API for where you were born (or lived, or want to visit!).\n",
    "\n",
    "- *Tip: The URL we used in class was for a place near San Francisco. What was the format of the endpoint that made this happen?*\n",
    "- *Tip: Save the URL as a separate variable, and be sure to not have `[` and `]` inside.*\n",
    "- *Tip: How is north vs. south and east vs. west latitude/longitude represented? Is it the normal North/South/East/West?*\n",
    "- *Tip: You know it's JSON, but Python doesn't! Make sure you aren't trying to deal with plain text.* \n",
    "- *Tip: Once you've imported the JSON into a variable, check the timezone's name to make sure it seems like it got the right part of the world!*"
   ]
  },
  {
   "cell_type": "code",
   "execution_count": 6,
   "metadata": {},
   "outputs": [],
   "source": []
  },
  {
   "cell_type": "code",
   "execution_count": 168,
   "metadata": {},
   "outputs": [
    {
     "data": {
      "text/plain": [
       "'15074402c474e3dab67f7377e1f95519'"
      ]
     },
     "execution_count": 168,
     "metadata": {},
     "output_type": "execute_result"
    }
   ],
   "source": [
    "from dotenv import load_dotenv\n",
    "load_dotenv()\n",
    "import os\n",
    "\n",
    "SECRET_KEY = os.getenv(\"DARKSKY_API_KEY\")\n",
    "SECRET_KEY"
   ]
  },
  {
   "cell_type": "code",
   "execution_count": 169,
   "metadata": {},
   "outputs": [],
   "source": [
    "response = requests.get(f'https://api.darksky.net/forecast/{SECRET_KEY}/37,23')\n",
    "coordinates = response.json()\n",
    "Athens = 'https://api.darksky.net/forecast/15074402c474e3dab67f7377e1f95519/37,23'"
   ]
  },
  {
   "cell_type": "markdown",
   "metadata": {},
   "source": [
    "## 2) What's the current wind speed? How much warmer does it feel than it actually is?\n",
    "\n",
    "- *Tip: You can do this by browsing through the dictionaries, but it might be easier to read the documentation*\n",
    "- *Tip: For the second half: it **is** one temperature, and it **feels** a different temperature. Calculate the difference.*"
   ]
  },
  {
   "cell_type": "code",
   "execution_count": 172,
   "metadata": {},
   "outputs": [
    {
     "name": "stdout",
     "output_type": "stream",
     "text": [
      "5.23\n"
     ]
    }
   ],
   "source": [
    "print(coordinates['currently']['windSpeed'])"
   ]
  },
  {
   "cell_type": "code",
   "execution_count": 174,
   "metadata": {},
   "outputs": [
    {
     "name": "stdout",
     "output_type": "stream",
     "text": [
      "The difference is 0.0 degrees\n"
     ]
    }
   ],
   "source": [
    "print(\"The difference is\", round(coordinates['currently']['apparentTemperature']-coordinates['currently']['temperature'],2),\"degrees\")"
   ]
  },
  {
   "cell_type": "code",
   "execution_count": null,
   "metadata": {
    "collapsed": true
   },
   "outputs": [],
   "source": []
  },
  {
   "cell_type": "markdown",
   "metadata": {},
   "source": [
    "## 3) Today's forecast is the FIRST daily forecast. For the place you decided on above, how much of the moon is currently visible?\n",
    "\n",
    "- *Tip: This does **not** use the `currently` key.*\n",
    "- *Tip: It might be helpful to save the forecast into its own variable*"
   ]
  },
  {
   "cell_type": "code",
   "execution_count": 178,
   "metadata": {},
   "outputs": [
    {
     "name": "stdout",
     "output_type": "stream",
     "text": [
      "0.29 of the moon is currently visible\n"
     ]
    }
   ],
   "source": [
    "#print(coordinates.keys())\n",
    "#print(coordinates['daily'].keys())\n",
    "#print(coordinates['daily']['data'][0])\n",
    "\n",
    "print((coordinates['daily']['data'][0]['moonPhase']), \"of the moon is currently visible\")"
   ]
  },
  {
   "cell_type": "code",
   "execution_count": null,
   "metadata": {
    "collapsed": true
   },
   "outputs": [],
   "source": []
  },
  {
   "cell_type": "code",
   "execution_count": null,
   "metadata": {
    "collapsed": true
   },
   "outputs": [],
   "source": []
  },
  {
   "cell_type": "markdown",
   "metadata": {},
   "source": [
    "## 4) What's the difference between the high and low temperatures for today?"
   ]
  },
  {
   "cell_type": "code",
   "execution_count": 179,
   "metadata": {},
   "outputs": [
    {
     "name": "stdout",
     "output_type": "stream",
     "text": [
      "82.29\n",
      "69.74\n"
     ]
    }
   ],
   "source": [
    "print(coordinates['daily']['data'][0]['temperatureHigh'])\n",
    "print(coordinates['daily']['data'][0]['temperatureLow'])"
   ]
  },
  {
   "cell_type": "code",
   "execution_count": 180,
   "metadata": {},
   "outputs": [
    {
     "name": "stdout",
     "output_type": "stream",
     "text": [
      "The difference between the high and low temperatures today is 12.55 degrees\n"
     ]
    }
   ],
   "source": [
    "temp = round(coordinates['daily']['data'][0]['temperatureHigh']-coordinates['daily']['data'][0]['temperatureLow'],2)\n",
    "print(\"The difference between the high and low temperatures today is\", temp, \"degrees\")"
   ]
  },
  {
   "cell_type": "code",
   "execution_count": null,
   "metadata": {
    "collapsed": true
   },
   "outputs": [],
   "source": []
  },
  {
   "cell_type": "markdown",
   "metadata": {},
   "source": [
    "## 5) Go through the daily forecasts, printing out the next week's worth of predictions.\n",
    "\n",
    "I'd like to know the **high temperature** for each day, and whether it's **hot, warm, or cold** (based on what temperatures you think are hot, warm or cold).\n",
    "\n",
    "- *Tip: Is it returning F or C? You can change them by adding `?units=us` or `?units=si` onto the end of the URL.*\n",
    "- *Tip: You'll need to use an `if` statement to say whether it is hot, warm or cold.*"
   ]
  },
  {
   "cell_type": "code",
   "execution_count": 181,
   "metadata": {},
   "outputs": [
    {
     "name": "stdout",
     "output_type": "stream",
     "text": [
      "82.29\n",
      "It's a warm day\n",
      "83.36\n",
      "It's a warm day\n",
      "87.31\n",
      "It's a warm day\n",
      "87.26\n",
      "It's a warm day\n",
      "88.35\n",
      "It's a warm day\n",
      "86.95\n",
      "It's a warm day\n",
      "85.75\n",
      "It's a warm day\n",
      "84.27\n",
      "It's a warm day\n"
     ]
    }
   ],
   "source": [
    "forecast = coordinates['daily']['data']\n",
    "for day in forecast:\n",
    "    high_temp = day['temperatureHigh']\n",
    "    print(high_temp)\n",
    "    if high_temp <=50:\n",
    "        print(\"It's a cold day\")\n",
    "    elif high_temp > 50:\n",
    "        print(\"It's a warm day\")\n",
    "    else:\n",
    "        print(\"It's a hot day\")\n"
   ]
  },
  {
   "cell_type": "code",
   "execution_count": null,
   "metadata": {
    "collapsed": true
   },
   "outputs": [],
   "source": []
  },
  {
   "cell_type": "markdown",
   "metadata": {},
   "source": [
    "# 6) What will be the hottest day in the next week? What is the high temperature on that day?\n",
    "\n",
    "It's okay if your result looks like `1453363200`. If you want to be extra-fancy, though, format it as a **real date** - the weird number is called a **UNIX timestamp**, which might help in googling.\n",
    "\n",
    "- *Tip: It's okay to skip this if it seems too difficult!*"
   ]
  },
  {
   "cell_type": "code",
   "execution_count": 182,
   "metadata": {},
   "outputs": [
    {
     "name": "stdout",
     "output_type": "stream",
     "text": [
      "On 1560805200 the temperature will be 88.35 and it will be the hottest day of the week\n"
     ]
    }
   ],
   "source": [
    "max = 0\n",
    "\n",
    "for day in forecast:\n",
    "    date = day['time']\n",
    "    high_temp = day['temperatureHigh']\n",
    "    if high_temp > max:\n",
    "        max = high_temp\n",
    "print(\"On\", date, \"the temperature will be\", max, \"and it will be the hottest day of the week\")        "
   ]
  },
  {
   "cell_type": "code",
   "execution_count": null,
   "metadata": {
    "collapsed": true
   },
   "outputs": [],
   "source": []
  },
  {
   "cell_type": "markdown",
   "metadata": {},
   "source": [
    "## 7) What's the weather looking like for the next 24+ hours in Miami, Florida?\n",
    "\n",
    "I'd like to know the temperature for every hour, and if it's going to have cloud cover of more than 50% say \"{temperature} and cloudy\" instead of just the temperature. \n",
    "\n",
    "\n",
    "- *Tip: Be sure to remember how latitude and longitude are done with positive and negative numbers*\n",
    "- *Tip: How do you represent \"50%\" for cloud cover?*"
   ]
  },
  {
   "cell_type": "code",
   "execution_count": 183,
   "metadata": {},
   "outputs": [],
   "source": [
    "response = requests.get(f'https://api.darksky.net/forecast/{SECRET_KEY}/25,-80')\n",
    "coordinates = response.json()"
   ]
  },
  {
   "cell_type": "code",
   "execution_count": 142,
   "metadata": {},
   "outputs": [
    {
     "name": "stdout",
     "output_type": "stream",
     "text": [
      "It's 84.63 degrees and cloudy in Miami\n",
      "It's 84.82 degrees and cloudy in Miami\n",
      "It's 85.02 degrees and cloudy in Miami\n",
      "It's 84.81 degrees and cloudy in Miami\n",
      "It's 84.38 degrees and cloudy in Miami\n",
      "It's 83.95 degrees and cloudy in Miami\n",
      "It's 83.37 degrees and cloudy in Miami\n",
      "It's 83.18 degrees and cloudy in Miami\n",
      "It's 83.28 degrees in Miami\n",
      "It's 83.26 degrees in Miami\n",
      "It's 82.95 degrees in Miami\n",
      "It's 82.73 degrees in Miami\n",
      "It's 82.65 degrees in Miami\n",
      "It's 82.63 degrees and cloudy in Miami\n",
      "It's 83.02 degrees in Miami\n",
      "It's 83.52 degrees in Miami\n",
      "It's 83.96 degrees and cloudy in Miami\n",
      "It's 84.32 degrees and cloudy in Miami\n",
      "It's 84.6 degrees and cloudy in Miami\n",
      "It's 84.97 degrees and cloudy in Miami\n",
      "It's 85.23 degrees and cloudy in Miami\n",
      "It's 85.04 degrees and cloudy in Miami\n",
      "It's 85.09 degrees and cloudy in Miami\n",
      "It's 85.38 degrees and cloudy in Miami\n"
     ]
    }
   ],
   "source": [
    "forecast = coordinates['hourly']['data']\n",
    "#print(forecast)\n",
    "#print(forecast['temperature'])\n",
    "\n",
    "for h in range(0,24):\n",
    "    daily_forecast = forecast[h]\n",
    "    if daily_forecast['cloudCover'] > 0.5:\n",
    "        print(\"It's\", daily_forecast['temperature'], \"degrees and cloudy in Miami\")\n",
    "    else:\n",
    "        print(\"It's\", daily_forecast['temperature'], \"degrees in Miami\")        \n",
    "        "
   ]
  },
  {
   "cell_type": "code",
   "execution_count": null,
   "metadata": {
    "collapsed": true
   },
   "outputs": [],
   "source": []
  },
  {
   "cell_type": "markdown",
   "metadata": {},
   "source": [
    "# 8) For the next 24-ish hours in Miami, what percent of the time is the temperature above 85 degrees?\n",
    "\n",
    "If they give you 48 hours instead of 24, that's okay.\n",
    "\n",
    "- *Tip: You might want to read up on [looping patterns](http://jonathansoma.com/lede/foundations-2017/classes/data%20structures/looping-patterns/)*"
   ]
  },
  {
   "cell_type": "code",
   "execution_count": 184,
   "metadata": {},
   "outputs": [
    {
     "name": "stdout",
     "output_type": "stream",
     "text": [
      "dict_keys(['latitude', 'longitude', 'timezone', 'currently', 'minutely', 'hourly', 'daily', 'flags', 'offset'])\n"
     ]
    }
   ],
   "source": [
    "print(coordinates.keys())"
   ]
  },
  {
   "cell_type": "code",
   "execution_count": 185,
   "metadata": {},
   "outputs": [
    {
     "name": "stdout",
     "output_type": "stream",
     "text": [
      "The termperature is 41.67 % over 85 degrees\n"
     ]
    }
   ],
   "source": [
    "miami_day = []\n",
    "miami_hour = coordinates['hourly']['data']\n",
    "for hour in miami_hour:\n",
    "    miami_day.append(hour['temperature'])\n",
    "    \n",
    "count = 0\n",
    "for n in range(0,24):\n",
    "    if miami_day[n] > 85:\n",
    "        count += 1\n",
    "print(\"The termperature is\", round(count/24*100, 2), \"% over 85 degrees\")        "
   ]
  },
  {
   "cell_type": "code",
   "execution_count": null,
   "metadata": {
    "collapsed": true
   },
   "outputs": [],
   "source": []
  },
  {
   "cell_type": "markdown",
   "metadata": {},
   "source": [
    "## 9) What was the temperature in Central Park on Christmas Day, 2012? How about 2007? 2005? How far back does the API allow you to go?\n",
    "\n",
    "- *Tip: You'll need to use UNIX time, which is the number of seconds since January 1, 1970. Google can help you convert a normal date!*\n",
    "- *Tip: You'll want to use Forecast.io's \"time machine\" API, [documentation here](https://darksky.net/dev/docs/time-machine)*"
   ]
  },
  {
   "cell_type": "code",
   "execution_count": 186,
   "metadata": {},
   "outputs": [],
   "source": [
    "#UNIX_Xmas_2012: 1356393600\n",
    "#UNIX_Xmas 2007: 1198540800\n",
    "#UNIX_Xmas 2005: 1135468800"
   ]
  },
  {
   "cell_type": "code",
   "execution_count": 187,
   "metadata": {},
   "outputs": [
    {
     "name": "stdout",
     "output_type": "stream",
     "text": [
      "https://api.darksky.net/forecast/15074402c474e3dab67f7377e1f95519/40,-74,1356393600\n",
      "https://api.darksky.net/forecast/15074402c474e3dab67f7377e1f95519/40,-74,1198540800\n",
      "https://api.darksky.net/forecast/15074402c474e3dab67f7377e1f95519/40,-74,1135468800\n"
     ]
    }
   ],
   "source": [
    "UNIX = [1356393600, 1198540800, 1135468800]\n",
    "for time in UNIX:\n",
    "#     response = requests.get(f'https://api.darksky.net/forecast/{SECRET_KEY}/40,-74,{time}')\n",
    "#     coordinates = response.json()\n",
    "    print(f'https://api.darksky.net/forecast/{SECRET_KEY}/40,-74,{time}')\n",
    "# print(f\"The temperature in Central Park on {time} was {coordinates['currently']['temperature']}\")"
   ]
  },
  {
   "cell_type": "code",
   "execution_count": 189,
   "metadata": {},
   "outputs": [
    {
     "name": "stdout",
     "output_type": "stream",
     "text": [
      "The temperature in Central Park on 1356393600 UNIX time was 37.24\n",
      "The temperature in Central Park on 1198540800 UNIX time was 41.81\n",
      "The temperature in Central Park on 1135468800 UNIX time was 40.4\n"
     ]
    }
   ],
   "source": [
    "UNIX = [1356393600, 1198540800, 1135468800]\n",
    "for time in UNIX:\n",
    "    response = requests.get(f'https://api.darksky.net/forecast/{SECRET_KEY}/40,-74,{time}')\n",
    "    coordinates = response.json()\n",
    "#     print(f'https://api.darksky.net/forecast/{SECRET_KEY}/40,-74,{time}')\n",
    "    print(f\"The temperature in Central Park on {time} UNIX time was {coordinates['currently']['temperature']}\")"
   ]
  },
  {
   "cell_type": "code",
   "execution_count": null,
   "metadata": {},
   "outputs": [],
   "source": []
  }
 ],
 "metadata": {
  "kernelspec": {
   "display_name": "Python 3",
   "language": "python",
   "name": "python3"
  },
  "language_info": {
   "codemirror_mode": {
    "name": "ipython",
    "version": 3
   },
   "file_extension": ".py",
   "mimetype": "text/x-python",
   "name": "python",
   "nbconvert_exporter": "python",
   "pygments_lexer": "ipython3",
   "version": "3.6.5"
  }
 },
 "nbformat": 4,
 "nbformat_minor": 1
}
